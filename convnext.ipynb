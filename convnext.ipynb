{
 "cells": [
  {
   "cell_type": "code",
   "execution_count": null,
   "id": "755631df",
   "metadata": {},
   "outputs": [],
   "source": [
    "import tensorflow as tf"
   ]
  },
  {
   "cell_type": "code",
   "execution_count": null,
   "id": "99a84175",
   "metadata": {},
   "outputs": [],
   "source": [
    "def convnext(inputs, filters):\n",
    "    x = tf.keras.layers.Conv2D(filters=filters, kernel_size=7, strides=1, \n",
    "                               groups=filters, padding=\"same\", kernel_initializer='he_normal')(inputs)\n",
    "    x = tf.keras.layers.LayerNormalization(epsilon=1e-6)(x)\n",
    "    x = tf.keras.layers.Dense(filters * 4)(x)\n",
    "    x = tf.keras.layers.Activation(\"gelu\")(x)\n",
    "    x = tf.keras.layers.Dense(filters)(x)\n",
    "    x = tf.keras.layers.Lambda(lambda g: g * 1e-6)(x)\n",
    "    x = inputs + x\n",
    "    return x"
   ]
  },
  {
   "cell_type": "code",
   "execution_count": null,
   "id": "4b30089d",
   "metadata": {},
   "outputs": [],
   "source": [
    "def model(num_classes):\n",
    "    inputs = tf.keras.layers.Input(shape=(None,None,3))\n",
    "    \n",
    "    #stem\n",
    "    stem = tf.keras.layers.Conv2D(filters=96, kernel_size=4, strides=4, \n",
    "                                  padding='same', kernel_initializer='he_normal')(inputs)\n",
    "    \n",
    "    #stage1\n",
    "    x1 = convnext(inputs=stem, filters=96)\n",
    "    x2 = convnext(inputs=x1, filters=96)    \n",
    "    x3 = convnext(inputs=x2, filters=96)\n",
    "    down = tf.keras.layers.Conv2D(filters=192, kernel_size=2, strides=2, \n",
    "                                  padding='same', kernel_initializer='he_normal')(x3)\n",
    "    down = tf.keras.layers.LayerNormalization(epsilon=1e-6)(down)\n",
    "    \n",
    "    #stage2\n",
    "    x4 = convnext(inputs=down, filters=192)\n",
    "    x5 = convnext(inputs=x4, filters=192)    \n",
    "    x6 = convnext(inputs=x5, filters=192)\n",
    "    down = tf.keras.layers.Conv2D(filters=384, kernel_size=2, strides=2, \n",
    "                                  padding='same', kernel_initializer='he_normal')(x6)\n",
    "    down = tf.keras.layers.LayerNormalization(epsilon=1e-6)(down)\n",
    "    \n",
    "    #stage3\n",
    "    x7 = convnext(inputs=down, filters=384)\n",
    "    x8 = convnext(inputs=x7, filters=384)    \n",
    "    x9 = convnext(inputs=x8, filters=384)\n",
    "    x10 = convnext(inputs=x9, filters=384)\n",
    "    x11 = convnext(inputs=x10, filters=384)    \n",
    "    x12 = convnext(inputs=x11, filters=384)\n",
    "    x13 = convnext(inputs=x12, filters=384)\n",
    "    x14 = convnext(inputs=x13, filters=384)    \n",
    "    x15 = convnext(inputs=x14, filters=384)\n",
    "    down = tf.keras.layers.Conv2D(filters=768, kernel_size=2, strides=2, \n",
    "                                  padding='same', kernel_initializer='he_normal')(x15)\n",
    "    down = tf.keras.layers.LayerNormalization(epsilon=1e-6)(down)\n",
    "    \n",
    "    #stage4\n",
    "    x16 = convnext(inputs=down, filters=768)\n",
    "    x17 = convnext(inputs=x16, filters=768)    \n",
    "    x18 = convnext(inputs=x17, filters=768)\n",
    "    \n",
    "    x = tf.keras.layers.GlobalAvgPool2D()(x18)\n",
    "    outputs = tf.keras.layers.Dense(num_classes)(x)\n",
    "    \n",
    "    return tf.keras.Model(inputs=inputs, outputs=outputs)"
   ]
  }
 ],
 "metadata": {
  "kernelspec": {
   "display_name": "Python 3",
   "language": "python",
   "name": "python3"
  },
  "language_info": {
   "codemirror_mode": {
    "name": "ipython",
    "version": 3
   },
   "file_extension": ".py",
   "mimetype": "text/x-python",
   "name": "python",
   "nbconvert_exporter": "python",
   "pygments_lexer": "ipython3",
   "version": "3.8.8"
  }
 },
 "nbformat": 4,
 "nbformat_minor": 5
}
